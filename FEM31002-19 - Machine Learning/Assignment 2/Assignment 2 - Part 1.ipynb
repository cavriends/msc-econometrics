{
 "cells": [
  {
   "cell_type": "markdown",
   "metadata": {},
   "source": [
    "# Setup"
   ]
  },
  {
   "cell_type": "code",
   "execution_count": 1,
   "metadata": {},
   "outputs": [],
   "source": [
    "import pandas as pd\n",
    "import numpy as np"
   ]
  },
  {
   "cell_type": "markdown",
   "metadata": {},
   "source": [
    "### Load and view dataset"
   ]
  },
  {
   "cell_type": "code",
   "execution_count": 11,
   "metadata": {},
   "outputs": [],
   "source": [
    "data = pd.read_csv('hw2_data.txt', sep='\\t')"
   ]
  },
  {
   "cell_type": "code",
   "execution_count": 12,
   "metadata": {},
   "outputs": [
    {
     "data": {
      "text/html": [
       "<div>\n",
       "<style scoped>\n",
       "    .dataframe tbody tr th:only-of-type {\n",
       "        vertical-align: middle;\n",
       "    }\n",
       "\n",
       "    .dataframe tbody tr th {\n",
       "        vertical-align: top;\n",
       "    }\n",
       "\n",
       "    .dataframe thead th {\n",
       "        text-align: right;\n",
       "    }\n",
       "</style>\n",
       "<table border=\"1\" class=\"dataframe\">\n",
       "  <thead>\n",
       "    <tr style=\"text-align: right;\">\n",
       "      <th></th>\n",
       "      <th>listener</th>\n",
       "      <th>artist_name</th>\n",
       "      <th>album_name</th>\n",
       "      <th>song_name</th>\n",
       "      <th>artist_popularity</th>\n",
       "      <th>album_popularity</th>\n",
       "      <th>song_popularity</th>\n",
       "      <th>acousticness</th>\n",
       "      <th>danceability</th>\n",
       "      <th>energy</th>\n",
       "      <th>instrumentalness</th>\n",
       "      <th>liveness</th>\n",
       "      <th>loudness</th>\n",
       "      <th>speechiness</th>\n",
       "      <th>tempo</th>\n",
       "      <th>valence</th>\n",
       "    </tr>\n",
       "  </thead>\n",
       "  <tbody>\n",
       "    <tr>\n",
       "      <th>1</th>\n",
       "      <td>64</td>\n",
       "      <td>P!nk</td>\n",
       "      <td>Walk Me Home</td>\n",
       "      <td>Walk Me Home</td>\n",
       "      <td>88</td>\n",
       "      <td>77</td>\n",
       "      <td>86</td>\n",
       "      <td>0.0519</td>\n",
       "      <td>0.652</td>\n",
       "      <td>0.453</td>\n",
       "      <td>0.000000</td>\n",
       "      <td>0.1790</td>\n",
       "      <td>-6.119</td>\n",
       "      <td>0.0445</td>\n",
       "      <td>88.038</td>\n",
       "      <td>0.432</td>\n",
       "    </tr>\n",
       "    <tr>\n",
       "      <th>2</th>\n",
       "      <td>62</td>\n",
       "      <td>Belinda Carlisle</td>\n",
       "      <td>Greatest Vol.1 - Belinda Carlisle</td>\n",
       "      <td>Heaven Is a Place on Earth</td>\n",
       "      <td>65</td>\n",
       "      <td>64</td>\n",
       "      <td>71</td>\n",
       "      <td>0.0243</td>\n",
       "      <td>0.640</td>\n",
       "      <td>0.852</td>\n",
       "      <td>0.000002</td>\n",
       "      <td>0.0497</td>\n",
       "      <td>-8.119</td>\n",
       "      <td>0.0345</td>\n",
       "      <td>122.902</td>\n",
       "      <td>0.793</td>\n",
       "    </tr>\n",
       "    <tr>\n",
       "      <th>3</th>\n",
       "      <td>61</td>\n",
       "      <td>Travis</td>\n",
       "      <td>The Man Who</td>\n",
       "      <td>Why Does It Always Rain On Me?</td>\n",
       "      <td>63</td>\n",
       "      <td>49</td>\n",
       "      <td>57</td>\n",
       "      <td>0.0790</td>\n",
       "      <td>0.497</td>\n",
       "      <td>0.537</td>\n",
       "      <td>0.000139</td>\n",
       "      <td>0.0782</td>\n",
       "      <td>-9.264</td>\n",
       "      <td>0.0269</td>\n",
       "      <td>108.448</td>\n",
       "      <td>0.371</td>\n",
       "    </tr>\n",
       "    <tr>\n",
       "      <th>4</th>\n",
       "      <td>51</td>\n",
       "      <td>Freya Ridings</td>\n",
       "      <td>Castles</td>\n",
       "      <td>Castles</td>\n",
       "      <td>69</td>\n",
       "      <td>51</td>\n",
       "      <td>60</td>\n",
       "      <td>0.0046</td>\n",
       "      <td>0.672</td>\n",
       "      <td>0.752</td>\n",
       "      <td>0.000470</td>\n",
       "      <td>0.0560</td>\n",
       "      <td>-4.866</td>\n",
       "      <td>0.0843</td>\n",
       "      <td>116.945</td>\n",
       "      <td>0.429</td>\n",
       "    </tr>\n",
       "    <tr>\n",
       "      <th>5</th>\n",
       "      <td>53</td>\n",
       "      <td>Stephen Puth</td>\n",
       "      <td>Sexual Vibe</td>\n",
       "      <td>Sexual Vibe</td>\n",
       "      <td>56</td>\n",
       "      <td>54</td>\n",
       "      <td>63</td>\n",
       "      <td>0.0191</td>\n",
       "      <td>0.803</td>\n",
       "      <td>0.782</td>\n",
       "      <td>0.000005</td>\n",
       "      <td>0.1080</td>\n",
       "      <td>-3.873</td>\n",
       "      <td>0.0289</td>\n",
       "      <td>115.028</td>\n",
       "      <td>0.785</td>\n",
       "    </tr>\n",
       "  </tbody>\n",
       "</table>\n",
       "</div>"
      ],
      "text/plain": [
       "   listener       artist_name                         album_name  \\\n",
       "1        64              P!nk                       Walk Me Home   \n",
       "2        62  Belinda Carlisle  Greatest Vol.1 - Belinda Carlisle   \n",
       "3        61            Travis                        The Man Who   \n",
       "4        51     Freya Ridings                            Castles   \n",
       "5        53      Stephen Puth                        Sexual Vibe   \n",
       "\n",
       "                        song_name  artist_popularity  album_popularity  \\\n",
       "1                    Walk Me Home                 88                77   \n",
       "2      Heaven Is a Place on Earth                 65                64   \n",
       "3  Why Does It Always Rain On Me?                 63                49   \n",
       "4                         Castles                 69                51   \n",
       "5                     Sexual Vibe                 56                54   \n",
       "\n",
       "   song_popularity  acousticness  danceability  energy  instrumentalness  \\\n",
       "1               86        0.0519         0.652   0.453          0.000000   \n",
       "2               71        0.0243         0.640   0.852          0.000002   \n",
       "3               57        0.0790         0.497   0.537          0.000139   \n",
       "4               60        0.0046         0.672   0.752          0.000470   \n",
       "5               63        0.0191         0.803   0.782          0.000005   \n",
       "\n",
       "   liveness  loudness  speechiness    tempo  valence  \n",
       "1    0.1790    -6.119       0.0445   88.038    0.432  \n",
       "2    0.0497    -8.119       0.0345  122.902    0.793  \n",
       "3    0.0782    -9.264       0.0269  108.448    0.371  \n",
       "4    0.0560    -4.866       0.0843  116.945    0.429  \n",
       "5    0.1080    -3.873       0.0289  115.028    0.785  "
      ]
     },
     "execution_count": 12,
     "metadata": {},
     "output_type": "execute_result"
    }
   ],
   "source": [
    "data.head()"
   ]
  },
  {
   "cell_type": "markdown",
   "metadata": {},
   "source": [
    "# Question 1"
   ]
  },
  {
   "cell_type": "markdown",
   "metadata": {},
   "source": [
    "### Descriptives"
   ]
  },
  {
   "cell_type": "code",
   "execution_count": 22,
   "metadata": {
    "scrolled": true
   },
   "outputs": [
    {
     "data": {
      "text/plain": [
       "['artist_popularity',\n",
       " 'album_popularity',\n",
       " 'song_popularity',\n",
       " 'acousticness',\n",
       " 'danceability',\n",
       " 'energy',\n",
       " 'instrumentalness',\n",
       " 'liveness',\n",
       " 'loudness',\n",
       " 'speechiness',\n",
       " 'tempo',\n",
       " 'valence']"
      ]
     },
     "execution_count": 22,
     "metadata": {},
     "output_type": "execute_result"
    }
   ],
   "source": [
    "numeric_vars = list(data.columns)[4:]\n",
    "numeric_vars"
   ]
  },
  {
   "cell_type": "code",
   "execution_count": 30,
   "metadata": {},
   "outputs": [],
   "source": [
    "cols = ['Mean', 'SD', 'Median', 'Min', 'Max']\n",
    "descriptives = pd.DataFrame(index = numeric_vars , columns = cols)"
   ]
  },
  {
   "cell_type": "code",
   "execution_count": 32,
   "metadata": {},
   "outputs": [],
   "source": [
    "for var in numeric_vars:\n",
    "    descriptives.loc[var, 'Mean'] = data[var].mean()\n",
    "    descriptives.loc[var, 'SD'] = data[var].std()\n",
    "    descriptives.loc[var, 'Median'] = data[var].median()\n",
    "    descriptives.loc[var, 'Min'] = data[var].min()\n",
    "    descriptives.loc[var, 'Max'] = data[var].max()"
   ]
  },
  {
   "cell_type": "code",
   "execution_count": 39,
   "metadata": {},
   "outputs": [],
   "source": [
    "descriptives = descriptives.astype(float).round(2)"
   ]
  },
  {
   "cell_type": "code",
   "execution_count": 40,
   "metadata": {},
   "outputs": [
    {
     "name": "stdout",
     "output_type": "stream",
     "text": [
      "\\begin{tabular}{lrrrrr}\n",
      "\\toprule\n",
      "{} &    Mean &     SD &  Median &    Min &     Max \\\\\n",
      "\\midrule\n",
      "artist\\_popularity &   65.71 &  15.95 &   68.00 &   2.00 &   96.00 \\\\\n",
      "album\\_popularity  &   52.02 &  18.77 &   56.00 &   0.00 &   90.00 \\\\\n",
      "song\\_popularity   &   51.88 &  20.41 &   57.00 &   0.00 &   98.00 \\\\\n",
      "acousticness      &    0.20 &   0.24 &    0.09 &   0.00 &    1.00 \\\\\n",
      "danceability      &    0.59 &   0.14 &    0.59 &   0.10 &    0.98 \\\\\n",
      "energy            &    0.68 &   0.19 &    0.71 &   0.04 &    0.99 \\\\\n",
      "instrumentalness  &    0.04 &   0.15 &    0.00 &   0.00 &    0.96 \\\\\n",
      "liveness          &    0.18 &   0.15 &    0.12 &   0.01 &    0.98 \\\\\n",
      "loudness          &   -7.35 &   3.11 &   -6.71 & -32.91 &   -1.36 \\\\\n",
      "speechiness       &    0.05 &   0.04 &    0.04 &   0.02 &    0.42 \\\\\n",
      "tempo             &  120.25 &  27.10 &  117.96 &  62.51 &  207.69 \\\\\n",
      "valence           &    0.56 &   0.24 &    0.56 &   0.04 &    0.99 \\\\\n",
      "\\bottomrule\n",
      "\\end{tabular}\n",
      "\n"
     ]
    }
   ],
   "source": [
    "print(descriptives.to_latex(header=True))"
   ]
  },
  {
   "cell_type": "markdown",
   "metadata": {},
   "source": [
    "### Correlations"
   ]
  },
  {
   "cell_type": "code",
   "execution_count": 55,
   "metadata": {},
   "outputs": [
    {
     "name": "stdout",
     "output_type": "stream",
     "text": [
      "\\begin{tabular}{lrrrr}\n",
      "\\toprule\n",
      "{} &  listener &  artist\\_popularity &  album\\_popularity &  song\\_popularity \\\\\n",
      "\\midrule\n",
      "listener          &      1.00 &               0.06 &              0.05 &             0.06 \\\\\n",
      "artist\\_popularity &      0.06 &               1.00 &              0.72 &             0.65 \\\\\n",
      "album\\_popularity  &      0.05 &               0.72 &              1.00 &             0.91 \\\\\n",
      "song\\_popularity   &      0.06 &               0.65 &              0.91 &             1.00 \\\\\n",
      "\\bottomrule\n",
      "\\end{tabular}\n",
      "\n"
     ]
    }
   ],
   "source": [
    "popularity_data = data[['listener', 'artist_popularity', 'album_popularity', 'song_popularity']]\n",
    "print(popularity_data.corr().round(2).to_latex(header=True))"
   ]
  },
  {
   "cell_type": "markdown",
   "metadata": {},
   "source": [
    "### Most popular artists and songs"
   ]
  },
  {
   "cell_type": "code",
   "execution_count": 167,
   "metadata": {},
   "outputs": [],
   "source": [
    "# Group songs by artist and name (prevent issues due to same song names for different artists), find most listened\n",
    "most_played_songs = data.groupby(['artist_name', 'song_name'])['listener'].sum().sort_values(ascending=False)[:10]"
   ]
  },
  {
   "cell_type": "code",
   "execution_count": 180,
   "metadata": {},
   "outputs": [],
   "source": [
    "# Group songs by artists, find most played artists\n",
    "most_played_artists = (data.groupby(['artist_name'])['listener']\n",
    "                       .count()\n",
    "                       .sort_values(ascending=False)[:10]\n",
    "                       .reset_index()\n",
    "                       .rename(columns = {'listener' : 'songs_played'}))\n",
    "\n",
    "most_played_artists.index += 1 # start index counting at 1 (ranks 1-10 instead of 0-9)"
   ]
  },
  {
   "cell_type": "code",
   "execution_count": 181,
   "metadata": {},
   "outputs": [],
   "source": [
    "most_listened_albums = (data.groupby(['artist_name', 'album_name'])['listener']\n",
    "                        .sum()\n",
    "                        .sort_values(ascending=False)[:10]\n",
    "                        .reset_index())\n",
    "\n",
    "most_listened_albums.index += 1"
   ]
  },
  {
   "cell_type": "code",
   "execution_count": 183,
   "metadata": {},
   "outputs": [
    {
     "data": {
      "text/html": [
       "<div>\n",
       "<style scoped>\n",
       "    .dataframe tbody tr th:only-of-type {\n",
       "        vertical-align: middle;\n",
       "    }\n",
       "\n",
       "    .dataframe tbody tr th {\n",
       "        vertical-align: top;\n",
       "    }\n",
       "\n",
       "    .dataframe thead th {\n",
       "        text-align: right;\n",
       "    }\n",
       "</style>\n",
       "<table border=\"1\" class=\"dataframe\">\n",
       "  <thead>\n",
       "    <tr style=\"text-align: right;\">\n",
       "      <th></th>\n",
       "      <th>artist_name</th>\n",
       "      <th>album_name</th>\n",
       "      <th>listener</th>\n",
       "    </tr>\n",
       "  </thead>\n",
       "  <tbody>\n",
       "    <tr>\n",
       "      <th>1</th>\n",
       "      <td>Michael Jackson</td>\n",
       "      <td>Dangerous</td>\n",
       "      <td>231</td>\n",
       "    </tr>\n",
       "    <tr>\n",
       "      <th>2</th>\n",
       "      <td>Michael Jackson</td>\n",
       "      <td>Thriller 25 Super Deluxe Edition</td>\n",
       "      <td>203</td>\n",
       "    </tr>\n",
       "    <tr>\n",
       "      <th>3</th>\n",
       "      <td>Savage Garden</td>\n",
       "      <td>Savage Garden</td>\n",
       "      <td>195</td>\n",
       "    </tr>\n",
       "    <tr>\n",
       "      <th>4</th>\n",
       "      <td>Katy Perry</td>\n",
       "      <td>Katy Perry - Teenage Dream: The Complete Confe...</td>\n",
       "      <td>174</td>\n",
       "    </tr>\n",
       "    <tr>\n",
       "      <th>5</th>\n",
       "      <td>Michael Jackson</td>\n",
       "      <td>Bad 25th Anniversary</td>\n",
       "      <td>157</td>\n",
       "    </tr>\n",
       "    <tr>\n",
       "      <th>6</th>\n",
       "      <td>Amy Winehouse</td>\n",
       "      <td>Back To Black</td>\n",
       "      <td>156</td>\n",
       "    </tr>\n",
       "    <tr>\n",
       "      <th>7</th>\n",
       "      <td>Duran Duran</td>\n",
       "      <td>Duran Duran [The Wedding Album]</td>\n",
       "      <td>147</td>\n",
       "    </tr>\n",
       "    <tr>\n",
       "      <th>8</th>\n",
       "      <td>Charlie Puth</td>\n",
       "      <td>Voicenotes</td>\n",
       "      <td>139</td>\n",
       "    </tr>\n",
       "    <tr>\n",
       "      <th>9</th>\n",
       "      <td>Cake</td>\n",
       "      <td>Prolonging the Magic</td>\n",
       "      <td>130</td>\n",
       "    </tr>\n",
       "    <tr>\n",
       "      <th>10</th>\n",
       "      <td>Spin Doctors</td>\n",
       "      <td>Pocket Full Of Kryptonite</td>\n",
       "      <td>129</td>\n",
       "    </tr>\n",
       "  </tbody>\n",
       "</table>\n",
       "</div>"
      ],
      "text/plain": [
       "        artist_name                                         album_name  \\\n",
       "1   Michael Jackson                                          Dangerous   \n",
       "2   Michael Jackson                   Thriller 25 Super Deluxe Edition   \n",
       "3     Savage Garden                                      Savage Garden   \n",
       "4        Katy Perry  Katy Perry - Teenage Dream: The Complete Confe...   \n",
       "5   Michael Jackson                               Bad 25th Anniversary   \n",
       "6     Amy Winehouse                                      Back To Black   \n",
       "7       Duran Duran                    Duran Duran [The Wedding Album]   \n",
       "8      Charlie Puth                                         Voicenotes   \n",
       "9              Cake                               Prolonging the Magic   \n",
       "10     Spin Doctors                          Pocket Full Of Kryptonite   \n",
       "\n",
       "    listener  \n",
       "1        231  \n",
       "2        203  \n",
       "3        195  \n",
       "4        174  \n",
       "5        157  \n",
       "6        156  \n",
       "7        147  \n",
       "8        139  \n",
       "9        130  \n",
       "10       129  "
      ]
     },
     "execution_count": 183,
     "metadata": {},
     "output_type": "execute_result"
    }
   ],
   "source": [
    "most_listened_albums"
   ]
  },
  {
   "cell_type": "code",
   "execution_count": 182,
   "metadata": {},
   "outputs": [
    {
     "name": "stdout",
     "output_type": "stream",
     "text": [
      "\\begin{tabular}{llrllr}\n",
      "\\toprule\n",
      "{} &            artist\\_name &  songs\\_played &      artist\\_name &                                         album\\_name &  listener \\\\\n",
      "\\midrule\n",
      "1  &        Michael Jackson &            30 &  Michael Jackson &                                          Dangerous &       231 \\\\\n",
      "2  &            Bryan Adams &             7 &  Michael Jackson &                   Thriller 25 Super Deluxe Edition &       203 \\\\\n",
      "3  &             Bruno Mars &             6 &    Savage Garden &                                      Savage Garden &       195 \\\\\n",
      "4  &               Coldplay &             6 &       Katy Perry &  Katy Perry - Teenage Dream: The Complete Confe... &       174 \\\\\n",
      "5  &                Placebo &             6 &  Michael Jackson &                               Bad 25th Anniversary &       157 \\\\\n",
      "6  &         Michael Bolton &             6 &    Amy Winehouse &                                      Back To Black &       156 \\\\\n",
      "7  &  Red Hot Chili Peppers &             6 &      Duran Duran &                    Duran Duran [The Wedding Album] &       147 \\\\\n",
      "8  &              The Doors &             6 &     Charlie Puth &                                         Voicenotes &       139 \\\\\n",
      "9  &              Aerosmith &             5 &             Cake &                               Prolonging the Magic &       130 \\\\\n",
      "10 &            Duran Duran &             5 &     Spin Doctors &                          Pocket Full Of Kryptonite &       129 \\\\\n",
      "\\bottomrule\n",
      "\\end{tabular}\n",
      "\n"
     ]
    }
   ],
   "source": [
    "print(pd.concat([most_played_artists, most_listened_albums], axis=1).to_latex(header=True))"
   ]
  },
  {
   "cell_type": "markdown",
   "metadata": {},
   "source": [
    "# Question 2"
   ]
  },
  {
   "cell_type": "code",
   "execution_count": 158,
   "metadata": {},
   "outputs": [
    {
     "data": {
      "text/plain": [
       "artist_name               song_name                  \n",
       "Bon Jovi                  Have A Nice Day                81\n",
       "The Cranberries           Animal Instinct                80\n",
       "Suede                     Beautiful Ones (Remastered)    79\n",
       "Louis Tomlinson           Two of Us                      79\n",
       "kent                      Music Non Stop                 79\n",
       "EMF                       Unbelievable                   78\n",
       "Lisa Loeb & Nine Stories  Do You Sleep?                  78\n",
       "Sunrise Avenue            Lifesaver                      77\n",
       "Christina Aguilera        Genie in a Bottle              77\n",
       "Michael Bublé             It's a Beautiful Day           77\n",
       "Name: listener, dtype: int64"
      ]
     },
     "execution_count": 158,
     "metadata": {},
     "output_type": "execute_result"
    }
   ],
   "source": [
    "data.groupby(['artist_name', 'song_name'])['listener'].sum().sort_values(ascending=False)[:10]"
   ]
  },
  {
   "cell_type": "code",
   "execution_count": null,
   "metadata": {},
   "outputs": [],
   "source": []
  }
 ],
 "metadata": {
  "kernelspec": {
   "display_name": "Python 3",
   "language": "python",
   "name": "python3"
  },
  "language_info": {
   "codemirror_mode": {
    "name": "ipython",
    "version": 3
   },
   "file_extension": ".py",
   "mimetype": "text/x-python",
   "name": "python",
   "nbconvert_exporter": "python",
   "pygments_lexer": "ipython3",
   "version": "3.7.3"
  }
 },
 "nbformat": 4,
 "nbformat_minor": 2
}
